{
 "cells": [
  {
   "cell_type": "code",
   "execution_count": 1,
   "id": "855bf9ce",
   "metadata": {},
   "outputs": [
    {
     "name": "stdout",
     "output_type": "stream",
     "text": [
      "List Before  [1, 2, 3, 1, 2, 4, 5, 4, 6, 2]\n",
      "List After removing duplicates  [1, 2, 3, 4, 5, 6]\n"
     ]
    }
   ],
   "source": [
    "#1.\tWAP to remove to find duplicates elements in  list,\n",
    "my_list = [1, 2, 3, 1, 2, 4, 5, 4 ,6, 2]\n",
    "print(\"List Before \", my_list)\n",
    "temp_list = []\n",
    "for i in my_list:\n",
    "    if i not in temp_list:\n",
    "        temp_list.append(i)\n",
    "my_list = temp_list\n",
    "print(\"List After removing duplicates \", my_list)\n"
   ]
  },
  {
   "cell_type": "code",
   "execution_count": 3,
   "id": "420924f3",
   "metadata": {},
   "outputs": [
    {
     "name": "stdout",
     "output_type": "stream",
     "text": [
      "[1, 2, 3, 4, 8]\n"
     ]
    }
   ],
   "source": [
    "#2.\tWAP to sort the given list\n",
    "numbers = [1, 3, 4, 2,8] \n",
    "numbers.sort() \n",
    "print(numbers)"
   ]
  },
  {
   "cell_type": "code",
   "execution_count": 4,
   "id": "7b4b58c5",
   "metadata": {},
   "outputs": [
    {
     "name": "stdout",
     "output_type": "stream",
     "text": [
      "Enter number of elements:5\n",
      "Enter element:4\n",
      "Enter element:6\n",
      "Enter element:9\n",
      "Enter element:1\n",
      "Enter element:2\n",
      "The even list [4, 6, 2]\n",
      "The odd list [9, 1]\n"
     ]
    }
   ],
   "source": [
    "#3.\tWAP to create a list such that new list contains alternate even and odd from given list\n",
    "a=[]\n",
    "n=int(input(\"Enter number of elements:\"))\n",
    "for i in range(1,n+1):\n",
    "    b=int(input(\"Enter element:\"))\n",
    "    a.append(b)\n",
    "even=[]\n",
    "odd=[]\n",
    "for j in a:\n",
    "    if(j%2==0):\n",
    "        even.append(j)\n",
    "    else:\n",
    "        odd.append(j)\n",
    "print(\"The even list\",even)\n",
    "print(\"The odd list\",odd)"
   ]
  },
  {
   "cell_type": "code",
   "execution_count": 6,
   "id": "c5bfa733",
   "metadata": {},
   "outputs": [
    {
     "name": "stdout",
     "output_type": "stream",
     "text": [
      "Largest element is: 8909\n"
     ]
    }
   ],
   "source": [
    "#4.\tWrite a Python program to get the largest number from a list.\n",
    "list1 = [10, 20, 4, 45, 99,8909] \n",
    "list1.sort() \n",
    "print(\"Largest element is:\", list1[-1])"
   ]
  },
  {
   "cell_type": "code",
   "execution_count": 38,
   "id": "39a68cbc",
   "metadata": {},
   "outputs": [
    {
     "ename": "IndentationError",
     "evalue": "expected an indented block (Temp/ipykernel_22992/991727169.py, line 3)",
     "output_type": "error",
     "traceback": [
      "\u001b[1;36m  File \u001b[1;32m\"C:\\Users\\panu\\AppData\\Local\\Temp/ipykernel_22992/991727169.py\"\u001b[1;36m, line \u001b[1;32m3\u001b[0m\n\u001b[1;33m    count1=0\u001b[0m\n\u001b[1;37m    ^\u001b[0m\n\u001b[1;31mIndentationError\u001b[0m\u001b[1;31m:\u001b[0m expected an indented block\n"
     ]
    }
   ],
   "source": [
    "#5.\tWrite a Python program to count the number of strings where the string length is 2 or more and the first and last character are same from a given list of strings.\n",
    "def check(list1):\n",
    "count=0\n",
    "for i in list1:\n",
    "if i[0]==i[-1] and len(i)>=2:\n",
    "count+=1\n",
    "return count\n",
    "print(check([\"1221\",\"abc\",\"abba\"]))\n",
    "\n"
   ]
  },
  {
   "cell_type": "code",
   "execution_count": 7,
   "id": "fd2e1cfc",
   "metadata": {},
   "outputs": [
    {
     "name": "stdout",
     "output_type": "stream",
     "text": [
      "List Before  [1, 2, 3, 1, 2, 4, 5, 4, 6, 2]\n",
      "List After removing duplicates  [1, 2, 3, 4, 5, 6]\n"
     ]
    }
   ],
   "source": [
    "#6.\tWrite a Python program to remove duplicates from a list.\n",
    "my_list = [1, 2, 3, 1, 2, 4, 5, 4 ,6, 2]\n",
    "print(\"List Before \", my_list)\n",
    "temp_list = []\n",
    "for i in my_list:\n",
    "    if i not in temp_list:\n",
    "        temp_list.append(i)\n",
    "my_list = temp_list\n",
    "print(\"List After removing duplicates \", my_list)\n"
   ]
  },
  {
   "cell_type": "code",
   "execution_count": null,
   "id": "19c676b4",
   "metadata": {},
   "outputs": [],
   "source": [
    "#7.\tWrite a Python program to find the list of words that are longer than given words\n",
    "str=input(\"enter strings : \")\n",
    "a=str.split(\" \")\n",
    "b=[]\n",
    "str1=input(\"enter a word\") \n",
    "for i in a:\n",
    "    if (len(i)> str1) :\n",
    "        b.append(i)\n",
    "print(\"list of words : \",b)"
   ]
  },
  {
   "cell_type": "code",
   "execution_count": 10,
   "id": "1aa09dd0",
   "metadata": {},
   "outputs": [
    {
     "name": "stdout",
     "output_type": "stream",
     "text": [
      "False\n",
      "True\n"
     ]
    }
   ],
   "source": [
    "#8.\tWrite a Python function that takes two lists and returns True if they have at least one common member\n",
    "def test_includes_any(nums, lsts):\n",
    "    for x in lsts:\n",
    "        if x in nums:\n",
    "            return True\n",
    "    return False    \n",
    "print(test_includes_any([10, 20, 30, 40, 50, 60], [22, 42]))\n",
    "print(test_includes_any([10, 20, 30, 40, 50, 60], [20, 80]))"
   ]
  },
  {
   "cell_type": "code",
   "execution_count": 27,
   "id": "f58021a5",
   "metadata": {},
   "outputs": [
    {
     "name": "stdout",
     "output_type": "stream",
     "text": [
      "Original list elements:\n",
      "['Red', 'Black', 'Green', 'White', 'Orange']\n",
      "After removing the first color:\n",
      "['Black', 'Green', 'White', 'Orange']\n"
     ]
    }
   ],
   "source": [
    "#9.\tWrite a Python program to print a specified list after removing the 0th, 4th and 5th elements. Go to the editor\n",
    "color = [\"Red\", \"Black\", \"Green\", \"White\", \"Orange\"]\n",
    "print(\"Original list elements:\")\n",
    "print(color)\n",
    "del color[0]\n",
    "print(\"After removing the first color:\")\n",
    "print(color)"
   ]
  },
  {
   "cell_type": "code",
   "execution_count": 30,
   "id": "57e0f96c",
   "metadata": {},
   "outputs": [
    {
     "name": "stdout",
     "output_type": "stream",
     "text": [
      "['Green', 'White', 'Black']\n"
     ]
    }
   ],
   "source": [
    "#9.\tWrite a Python program to print a specified list after removing the 0th, 4th and 5th elements. Go to the editor\n",
    "color = ['Red', 'Green', 'White', 'Black', 'Pink', 'Yellow']\n",
    "color = [x for (i,x) in  enumerate(color) if i not in (0,4,5)]\n",
    "print(color)"
   ]
  },
  {
   "cell_type": "code",
   "execution_count": 33,
   "id": "dd170684",
   "metadata": {},
   "outputs": [
    {
     "name": "stdout",
     "output_type": "stream",
     "text": [
      "['Red', 'Green', 'White', 'Black', 'Pink', 'Yellow']\n"
     ]
    }
   ],
   "source": [
    "#10.\tSample List : ['Red', 'Green', 'White', 'Black', 'Pink', 'Yellow']\n",
    "Sample_List = ['Red', 'Green', 'White', 'Black', 'Pink', 'Yellow']\n",
    "print(Sample_List)\n"
   ]
  },
  {
   "cell_type": "code",
   "execution_count": 31,
   "id": "30fe8f5e",
   "metadata": {},
   "outputs": [
    {
     "name": "stdout",
     "output_type": "stream",
     "text": [
      "['Green', 'White', 'Black']\n"
     ]
    }
   ],
   "source": [
    "#11.\tExpected Output : ['Green', 'White', 'Black']\n",
    "color = ['Red', 'Green', 'White', 'Black', 'Pink', 'Yellow']\n",
    "color = [x for (i,x) in  enumerate(color) if i not in (0,4,5)]\n",
    "print(color)\n"
   ]
  },
  {
   "cell_type": "code",
   "execution_count": 34,
   "id": "4794d3a5",
   "metadata": {},
   "outputs": [
    {
     "name": "stdout",
     "output_type": "stream",
     "text": [
      "[7, 25, 27]\n"
     ]
    }
   ],
   "source": [
    "#12.\tWrite a Python program to print the numbers of a specified list after removing even numbers from it.\n",
    "num = [7,8, 120, 25, 44, 20, 27]\n",
    "num = [x for x in num if x%2!=0]\n",
    "print(num)"
   ]
  },
  {
   "cell_type": "code",
   "execution_count": null,
   "id": "8e7aa963",
   "metadata": {},
   "outputs": [],
   "source": []
  }
 ],
 "metadata": {
  "kernelspec": {
   "display_name": "Python 3 (ipykernel)",
   "language": "python",
   "name": "python3"
  },
  "language_info": {
   "codemirror_mode": {
    "name": "ipython",
    "version": 3
   },
   "file_extension": ".py",
   "mimetype": "text/x-python",
   "name": "python",
   "nbconvert_exporter": "python",
   "pygments_lexer": "ipython3",
   "version": "3.9.7"
  }
 },
 "nbformat": 4,
 "nbformat_minor": 5
}
